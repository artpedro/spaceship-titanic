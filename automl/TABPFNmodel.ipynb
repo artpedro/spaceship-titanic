{
 "cells": [
  {
   "cell_type": "code",
   "execution_count": 2,
   "metadata": {},
   "outputs": [],
   "source": [
    "import copy\n",
    "import numpy as np\n",
    "import pandas as pd\n",
    "import matplotlib.pyplot as plt\n",
    "from sklearn.model_selection import train_test_split\n",
    "from sklearn.preprocessing import StandardScaler,MaxAbsScaler\n",
    "import torch\n",
    "import torch.nn as nn\n",
    "import torch.nn.functional as F\n",
    "import matplotlib_inline.backend_inline\n",
    "import seaborn as sns\n",
    "import matplotlib as mpl\n",
    "matplotlib_inline.backend_inline.set_matplotlib_formats('svg')\n",
    "from scipy import stats\n",
    "from sklearn.preprocessing import LabelEncoder\n",
    "from sklearn.metrics import accuracy_score\n",
    "from sklearn.impute import KNNImputer\n",
    "import time\n",
    "\n",
    "from tabpfn import TabPFNClassifier"
   ]
  },
  {
   "cell_type": "markdown",
   "metadata": {},
   "source": [
    "# Data preparation for model\n",
    "- Imputing NA values\n",
    "- Expand features\n",
    "- Transform numerical features\n",
    "- Split train/validation data\n",
    "- Scaling"
   ]
  },
  {
   "cell_type": "code",
   "execution_count": 3,
   "metadata": {},
   "outputs": [
    {
     "name": "stdout",
     "output_type": "stream",
     "text": [
      "(8693, 27)\n",
      "(4277, 27)\n"
     ]
    }
   ],
   "source": [
    "data = np.load('../data/train_curated.npz',allow_pickle=True)\n",
    "X = data['train']\n",
    "Y = data['target']\n",
    "feats_names = data['feats']\n",
    "\n",
    "data = np.load('../data/test_curated.npz',allow_pickle=True)\n",
    "X_test = data['test']\n",
    "LABELS_SUB = data['labels']\n",
    "print(X.shape)\n",
    "print(X_test.shape)"
   ]
  },
  {
   "cell_type": "code",
   "execution_count": 4,
   "metadata": {},
   "outputs": [
    {
     "data": {
      "text/plain": [
       "(8693, 27)"
      ]
     },
     "execution_count": 4,
     "metadata": {},
     "output_type": "execute_result"
    }
   ],
   "source": [
    "all_data_train = True\n",
    "\n",
    "x_train, x_cv, y_train, y_cv = train_test_split(X,Y,test_size=0.3)\n",
    "\n",
    "if all_data_train:\n",
    "    x_train = X\n",
    "    y_train = Y\n",
    "\n",
    "x_train.shape"
   ]
  },
  {
   "cell_type": "code",
   "execution_count": 5,
   "metadata": {},
   "outputs": [],
   "source": [
    "scaler = MaxAbsScaler().fit(x_train)\n",
    "x_train = scaler.transform(x_train)\n",
    "x_cv = scaler.transform(x_cv)\n",
    "X_test = scaler.transform(X_test)"
   ]
  },
  {
   "cell_type": "code",
   "execution_count": 6,
   "metadata": {},
   "outputs": [],
   "source": [
    "classifier = TabPFNClassifier(N_ensemble_configurations=5)"
   ]
  },
  {
   "cell_type": "code",
   "execution_count": 7,
   "metadata": {},
   "outputs": [
    {
     "name": "stderr",
     "output_type": "stream",
     "text": [
      "c:\\Users\\artur\\Desktop\\lneoc\\pibic_lneoc\\deep_learning\\venv\\Lib\\site-packages\\torch\\utils\\checkpoint.py:460: UserWarning: torch.utils.checkpoint: please pass in use_reentrant=True or use_reentrant=False explicitly. The default value of use_reentrant will be updated to be False in the future. To maintain current behavior, pass use_reentrant=True. It is recommended that you use use_reentrant=False. Refer to docs for more details on the differences between the two variants.\n",
      "  warnings.warn(\n"
     ]
    },
    {
     "name": "stdout",
     "output_type": "stream",
     "text": [
      "Prediction time:  867.0846319198608 Accuracy 0.8182515337423313\n"
     ]
    }
   ],
   "source": [
    "start = time.time()\n",
    "classifier.fit(x_train, y_train,overwrite_warning=True)\n",
    "y_eval, p_eval = classifier.predict(x_cv, return_winning_probability=True)\n",
    "print('Prediction time: ', time.time() - start, 'Accuracy', accuracy_score(y_cv, y_eval))"
   ]
  },
  {
   "cell_type": "code",
   "execution_count": 8,
   "metadata": {},
   "outputs": [
    {
     "name": "stderr",
     "output_type": "stream",
     "text": [
      "c:\\Users\\artur\\Desktop\\lneoc\\pibic_lneoc\\deep_learning\\venv\\Lib\\site-packages\\torch\\utils\\checkpoint.py:460: UserWarning: torch.utils.checkpoint: please pass in use_reentrant=True or use_reentrant=False explicitly. The default value of use_reentrant will be updated to be False in the future. To maintain current behavior, pass use_reentrant=True. It is recommended that you use use_reentrant=False. Refer to docs for more details on the differences between the two variants.\n",
      "  warnings.warn(\n"
     ]
    }
   ],
   "source": [
    "x_train = X\n",
    "y_train = Y\n",
    "y_test = classifier.predict(X_test)\n"
   ]
  },
  {
   "cell_type": "markdown",
   "metadata": {},
   "source": [
    "# Exporting for submission"
   ]
  },
  {
   "cell_type": "code",
   "execution_count": 11,
   "metadata": {},
   "outputs": [
    {
     "name": "stdout",
     "output_type": "stream",
     "text": [
      "[ True False  True ...  True  True  True]\n"
     ]
    }
   ],
   "source": [
    "print(y_test)\n",
    "predictions = pd.DataFrame(y_test,columns=['Transported'])\n",
    "predictions['PassengerId'] = LABELS_SUB\n",
    "predictions['Transported'] = predictions['Transported'].astype(bool)\n",
    "predictions = predictions[['PassengerId','Transported']]"
   ]
  },
  {
   "cell_type": "code",
   "execution_count": 12,
   "metadata": {},
   "outputs": [],
   "source": [
    "predictions.to_csv('../data/submissionTABPFN_scaled.csv',index=False)"
   ]
  }
 ],
 "metadata": {
  "kernelspec": {
   "display_name": ".venv",
   "language": "python",
   "name": "python3"
  },
  "language_info": {
   "codemirror_mode": {
    "name": "ipython",
    "version": 3
   },
   "file_extension": ".py",
   "mimetype": "text/x-python",
   "name": "python",
   "nbconvert_exporter": "python",
   "pygments_lexer": "ipython3",
   "version": "3.11.6"
  }
 },
 "nbformat": 4,
 "nbformat_minor": 4
}
